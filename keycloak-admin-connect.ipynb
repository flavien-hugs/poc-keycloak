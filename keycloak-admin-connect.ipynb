{
 "cells": [
  {
   "cell_type": "code",
   "execution_count": 37,
   "id": "effe15a9-55bf-4bfb-afc4-39958413fa64",
   "metadata": {},
   "outputs": [],
   "source": [
    "from keycloak import KeycloakAdmin, KeycloakOpenIDConnection"
   ]
  },
  {
   "cell_type": "code",
   "execution_count": 42,
   "id": "227e34b4",
   "metadata": {},
   "outputs": [],
   "source": [
    "# INIT INSTANCE KeycloakOpenIDConnection\n",
    "\n",
    "kc_admin = KeycloakAdmin(\n",
    "    server_url=\"http://0.0.0.0:8088\",\n",
    "    username=\"auth\",\n",
    "    password=\"admin\",\n",
    "    realm_name=\"auth\",\n",
    "    client_id=\"account\",\n",
    "    client_secret_key=\"bWUrxqhCIrBFwZAMTAllEJRg0bZebGRT\",\n",
    ")"
   ]
  },
  {
   "cell_type": "code",
   "execution_count": 43,
   "id": "74f1b378",
   "metadata": {},
   "outputs": [],
   "source": [
    "# INIT INSTANCE KeycloakAdmin\n",
    "\n",
    "# kc_admin = KeycloakAdmin(connection=conn)"
   ]
  },
  {
   "cell_type": "code",
   "execution_count": 44,
   "id": "16609e6a",
   "metadata": {},
   "outputs": [
    {
     "data": {
      "text/plain": [
       "'0115b35c-1034-4156-bd61-157828611740'"
      ]
     },
     "execution_count": 44,
     "metadata": {},
     "output_type": "execute_result"
    }
   ],
   "source": [
    "import string\n",
    "import random\n",
    "import json\n",
    "\n",
    "\n",
    "def generate_id_number():\n",
    "    allowed_chars = string.ascii_uppercase + string.digits\n",
    "    unique_chars = random.sample(\n",
    "        population=[char for char in allowed_chars if char not in \"O0LI\"], k=8\n",
    "    )\n",
    "    random.shuffle(unique_chars)\n",
    "    matricule = \"-\".join(\n",
    "        [\n",
    "            \"\".join(unique_chars[:2]),\n",
    "            \"\".join(unique_chars[2:5]),\n",
    "            \"\".join(unique_chars[5:]),\n",
    "        ]\n",
    "    )\n",
    "    return matricule\n",
    "\n",
    "\n",
    "payload_user = {\n",
    "    \"username\": \"emanuel.doe@pm.me\",\n",
    "    \"email\": \"emanuel.doe@pm.me\",\n",
    "    \"firstName\": \"John\",\n",
    "    \"lastName\": \"Doe\",\n",
    "    \"enabled\": True,\n",
    "    \"emailVerified\": True,\n",
    "    \"credentials\": [{\"type\": \"password\", \"value\": \"p@55word\"}],\n",
    "    \"attributes\": {\n",
    "        \"id_number\": generate_id_number(),\n",
    "        \"phone_number\": \"+2250151571396\",\n",
    "        \"primary\": True,\n",
    "        \"app_users\": True,\n",
    "    },\n",
    "}\n",
    "\n",
    "new_user = await kc_admin.a_create_user(payload=payload_user)\n",
    "new_user"
   ]
  },
  {
   "cell_type": "code",
   "execution_count": null,
   "id": "d09a6827",
   "metadata": {},
   "outputs": [],
   "source": [
    "# GET ALL USERS\n",
    "\n",
    "users = await kc_admin.a_get_users({\"first\": 1, \"max\": 10})\n",
    "users"
   ]
  },
  {
   "cell_type": "code",
   "execution_count": null,
   "id": "c01f29d4",
   "metadata": {},
   "outputs": [],
   "source": [
    "# GET COUNT USERS\n",
    "\n",
    "users_count = await kc_admin.a_users_count({})\n",
    "users_count"
   ]
  },
  {
   "cell_type": "code",
   "execution_count": null,
   "id": "2c165330",
   "metadata": {},
   "outputs": [],
   "source": [
    "# GET USER\n",
    "\n",
    "user = await kc_admin.a_get_user(user_id=new_user)\n",
    "user"
   ]
  },
  {
   "cell_type": "code",
   "execution_count": null,
   "id": "f4c1cc64",
   "metadata": {},
   "outputs": [],
   "source": [
    "# CREATE GROUP\n",
    "\n",
    "import string\n",
    "import random\n",
    "from slugify import slugify\n",
    "\n",
    "\n",
    "for _ in range(1, 5):\n",
    "    c = random.choice(string.ascii_uppercase)\n",
    "    group_name = f\"agent rencenseur groupe {c}\".upper()\n",
    "    payload = {\"name\": group_name, \"attributes\": {\"slug\": [slugify(group_name)]}}\n",
    "\n",
    "    new_group = await kc_admin.a_create_group(payload=payload, skip_exists=True)\n",
    "    new_group"
   ]
  },
  {
   "cell_type": "code",
   "execution_count": null,
   "id": "e75d2ea8",
   "metadata": {},
   "outputs": [],
   "source": [
    "# GET ALL GROUPS\n",
    "\n",
    "groups = await kc_admin.a_get_groups({})\n",
    "groups"
   ]
  },
  {
   "cell_type": "code",
   "execution_count": null,
   "id": "2e8278c1",
   "metadata": {},
   "outputs": [],
   "source": [
    "# GET GROUP\n",
    "\n",
    "sliced_groups = groups[3:]\n",
    "group_id = sliced_groups[0].get(\"id\")\n",
    "group = await kc_admin.a_get_group(group_id=group_id)\n",
    "group"
   ]
  },
  {
   "cell_type": "code",
   "execution_count": null,
   "id": "5e6310c8",
   "metadata": {},
   "outputs": [],
   "source": [
    "# ASSIGN GROUP TO USER\n",
    "\n",
    "user_id = users[0].get(\"id\")\n",
    "user_groups = await kc_admin.a_get_user_groups(user_id=user_id)\n",
    "\n",
    "if user_groups:\n",
    "    await kc_admin.a_group_user_remove(\n",
    "        user_id=user_id, group_id=user_groups[0].get(\"id\")\n",
    "    )\n",
    "\n",
    "result = await kc_admin.a_group_user_add(user_id=user_id, group_id=group[\"id\"])\n",
    "result"
   ]
  },
  {
   "cell_type": "code",
   "execution_count": null,
   "id": "7ecbf69a",
   "metadata": {},
   "outputs": [],
   "source": [
    "# GET USER GROUPS\n",
    "\n",
    "groups = await kc_admin.a_get_user_groups(user_id=user_id)\n",
    "groups"
   ]
  }
 ],
 "metadata": {
  "kernelspec": {
   "display_name": "Python 3 (ipykernel)",
   "language": "python",
   "name": "python3"
  },
  "language_info": {
   "codemirror_mode": {
    "name": "ipython",
    "version": 3
   },
   "file_extension": ".py",
   "mimetype": "text/x-python",
   "name": "python",
   "nbconvert_exporter": "python",
   "pygments_lexer": "ipython3",
   "version": "3.12.4"
  }
 },
 "nbformat": 4,
 "nbformat_minor": 5
}
