{
 "cells": [
  {
   "cell_type": "code",
   "execution_count": null,
   "id": "effe15a9-55bf-4bfb-afc4-39958413fa64",
   "metadata": {},
   "outputs": [],
   "source": [
    "from keycloak import KeycloakAdmin, KeycloakOpenIDConnection"
   ]
  },
  {
   "cell_type": "code",
   "execution_count": null,
   "id": "227e34b4",
   "metadata": {},
   "outputs": [],
   "source": [
    "# INIT INSTANCE KeycloakOpenIDConnection\n",
    "\n",
    "conn = KeycloakOpenIDConnection(\n",
    "    server_url=\"http://0.0.0.0:8180\",\n",
    "    username=\"admin\",\n",
    "    password=\"admin\",\n",
    "    realm_name=\"master\",\n",
    "    client_id=\"account\",\n",
    "    client_secret_key=\"CAG72F9OGK5HwDo57uU0SshGDm4iGf0b\",\n",
    ")"
   ]
  },
  {
   "cell_type": "code",
   "execution_count": null,
   "id": "74f1b378",
   "metadata": {},
   "outputs": [],
   "source": [
    "# INIT INSTANCE KeycloakAdmin\n",
    "\n",
    "kc_admin = KeycloakAdmin(connection=conn)"
   ]
  },
  {
   "cell_type": "code",
   "execution_count": null,
   "id": "16609e6a",
   "metadata": {},
   "outputs": [],
   "source": [
    "import string\n",
    "import random\n",
    "import json\n",
    "\n",
    "\n",
    "def generate_id_number():\n",
    "    allowed_chars = string.ascii_uppercase + string.digits\n",
    "    unique_chars = random.sample(\n",
    "        population=[char for char in allowed_chars if char not in \"O0LI\"], k=8\n",
    "    )\n",
    "    random.shuffle(unique_chars)\n",
    "    matricule = \"-\".join(\n",
    "        [\n",
    "            \"\".join(unique_chars[:2]),\n",
    "            \"\".join(unique_chars[2:5]),\n",
    "            \"\".join(unique_chars[5:]),\n",
    "        ]\n",
    "    )\n",
    "    return matricule\n",
    "\n",
    "\n",
    "payload_user = {\n",
    "    \"username\": \"maxence.doe@pm.me\",\n",
    "    \"email\": \"maxence.doe@pm.me\",\n",
    "    \"firstName\": \"John\",\n",
    "    \"lastName\": \"Doe\",\n",
    "    \"enabled\": True,\n",
    "    \"emailVerified\": True,\n",
    "    \"credentials\": [{\"type\": \"password\", \"value\": \"p@55word\"}],\n",
    "    \"attributes\": {\n",
    "        \"id_number\": generate_id_number(),\n",
    "        \"phone_number\": \"+2250151571396\",\n",
    "        \"primary\": True,\n",
    "        \"app_users\": True,\n",
    "    },\n",
    "}\n",
    "\n",
    "new_user = await kc_admin.a_create_user(payload=payload_user)\n",
    "new_user"
   ]
  },
  {
   "cell_type": "code",
   "execution_count": 75,
   "id": "d09a6827",
   "metadata": {},
   "outputs": [
    {
     "data": {
      "text/plain": [
       "[{'id': '25a8654f-b42b-424e-90a3-3c8fb18d4484',\n",
       "  'username': 'dimitri.doe@pm.me',\n",
       "  'firstName': 'John',\n",
       "  'lastName': 'Doe',\n",
       "  'email': 'dimitridoe@pm.me',\n",
       "  'emailVerified': True,\n",
       "  'attributes': {'id_number': ['Q6-UVN-HD8'],\n",
       "   'phone_number': ['+2250151571396'],\n",
       "   'app_users': ['true'],\n",
       "   'primary': ['true']},\n",
       "  'createdTimestamp': 1722953556562,\n",
       "  'enabled': True,\n",
       "  'totp': False,\n",
       "  'disableableCredentialTypes': [],\n",
       "  'requiredActions': [],\n",
       "  'notBefore': 0,\n",
       "  'access': {'manageGroupMembership': True,\n",
       "   'view': True,\n",
       "   'mapRoles': True,\n",
       "   'impersonate': True,\n",
       "   'manage': True}},\n",
       " {'id': 'c0b71a82-3815-4231-bdc7-376fcf0c5d72',\n",
       "  'username': 'john.doe@pm.me',\n",
       "  'firstName': 'John',\n",
       "  'lastName': 'Doe',\n",
       "  'email': 'johndoe@pm.me',\n",
       "  'emailVerified': False,\n",
       "  'attributes': {'id_number': ['7R-VCU-Y4E'],\n",
       "   'phone_number': ['+2250151571396'],\n",
       "   'app_users': ['true'],\n",
       "   'primary': ['true']},\n",
       "  'createdTimestamp': 1722952981905,\n",
       "  'enabled': True,\n",
       "  'totp': False,\n",
       "  'disableableCredentialTypes': [],\n",
       "  'requiredActions': [],\n",
       "  'notBefore': 0,\n",
       "  'access': {'manageGroupMembership': True,\n",
       "   'view': True,\n",
       "   'mapRoles': True,\n",
       "   'impersonate': True,\n",
       "   'manage': True}},\n",
       " {'id': '0aef6051-a466-4e2b-a427-fac781d76602',\n",
       "  'username': 'maxence.doe@pm.me',\n",
       "  'firstName': 'John',\n",
       "  'lastName': 'Doe',\n",
       "  'email': 'maxence.doe@pm.me',\n",
       "  'emailVerified': True,\n",
       "  'attributes': {'id_number': ['N6-9V4-5ET'],\n",
       "   'phone_number': ['+2250151571396'],\n",
       "   'app_users': ['true'],\n",
       "   'primary': ['true']},\n",
       "  'createdTimestamp': 1722954047438,\n",
       "  'enabled': True,\n",
       "  'totp': False,\n",
       "  'disableableCredentialTypes': [],\n",
       "  'requiredActions': [],\n",
       "  'notBefore': 0,\n",
       "  'access': {'manageGroupMembership': True,\n",
       "   'view': True,\n",
       "   'mapRoles': True,\n",
       "   'impersonate': True,\n",
       "   'manage': True}},\n",
       " {'id': '5dea13b0-5cc3-4929-a8dc-68f2192508f3',\n",
       "  'username': 'ulrich.doe@pm.me',\n",
       "  'firstName': 'John',\n",
       "  'lastName': 'Doe',\n",
       "  'email': 'ulrichdoe@pm.me',\n",
       "  'emailVerified': True,\n",
       "  'attributes': {'id_number': ['MD-AHR-9SP'],\n",
       "   'phone_number': ['+2250151571396'],\n",
       "   'app_users': ['true'],\n",
       "   'primary': ['true']},\n",
       "  'createdTimestamp': 1722953424866,\n",
       "  'enabled': True,\n",
       "  'totp': False,\n",
       "  'disableableCredentialTypes': [],\n",
       "  'requiredActions': [],\n",
       "  'notBefore': 0,\n",
       "  'access': {'manageGroupMembership': True,\n",
       "   'view': True,\n",
       "   'mapRoles': True,\n",
       "   'impersonate': True,\n",
       "   'manage': True}}]"
      ]
     },
     "execution_count": 75,
     "metadata": {},
     "output_type": "execute_result"
    }
   ],
   "source": [
    "# GET ALL USERS\n",
    "\n",
    "users = await kc_admin.a_get_users({\"first\": 1, \"max\": 10})\n",
    "users"
   ]
  },
  {
   "cell_type": "code",
   "execution_count": null,
   "id": "c01f29d4",
   "metadata": {},
   "outputs": [],
   "source": [
    "# GET COUNT USERS\n",
    "\n",
    "users_count = await kc_admin.a_users_count({})\n",
    "users_count"
   ]
  },
  {
   "cell_type": "code",
   "execution_count": null,
   "id": "2c165330",
   "metadata": {},
   "outputs": [],
   "source": [
    "# GET USER\n",
    "\n",
    "user = await kc_admin.a_get_user(user_id=new_user)\n",
    "user"
   ]
  },
  {
   "cell_type": "code",
   "execution_count": null,
   "id": "f4c1cc64",
   "metadata": {},
   "outputs": [],
   "source": [
    "# CREATE GROUP\n",
    "\n",
    "import string\n",
    "import random\n",
    "from slugify import slugify\n",
    "\n",
    "\n",
    "for _ in range(1, 5):\n",
    "    c = random.choice(string.ascii_uppercase)\n",
    "    group_name = f\"agent rencenseur groupe {c}\".upper()\n",
    "    payload = {\"name\": group_name, \"attributes\": {\"slug\": [slugify(group_name)]}}\n",
    "\n",
    "    new_group = await kc_admin.a_create_group(payload=payload, skip_exists=True)\n",
    "    new_group"
   ]
  },
  {
   "cell_type": "code",
   "execution_count": 147,
   "id": "e75d2ea8",
   "metadata": {},
   "outputs": [
    {
     "data": {
      "text/plain": [
       "[{'id': 'a7c0d334-0d5b-4263-985a-91e08d4125a1',\n",
       "  'name': 'AGENT RENCENSEUR GROUPE A',\n",
       "  'path': '/AGENT RENCENSEUR GROUPE A',\n",
       "  'subGroupCount': 0,\n",
       "  'subGroups': [],\n",
       "  'access': {'view': True,\n",
       "   'viewMembers': True,\n",
       "   'manageMembers': True,\n",
       "   'manage': True,\n",
       "   'manageMembership': True}},\n",
       " {'id': 'c4eb6924-5f92-4c84-b388-66636c069aae',\n",
       "  'name': 'AGENT RENCENSEUR GROUPE C',\n",
       "  'path': '/AGENT RENCENSEUR GROUPE C',\n",
       "  'subGroupCount': 0,\n",
       "  'subGroups': [],\n",
       "  'access': {'view': True,\n",
       "   'viewMembers': True,\n",
       "   'manageMembers': True,\n",
       "   'manage': True,\n",
       "   'manageMembership': True}},\n",
       " {'id': '963defeb-0d34-4979-ada1-b2d1667819af',\n",
       "  'name': 'AGENT RENCENSEUR GROUPE E',\n",
       "  'path': '/AGENT RENCENSEUR GROUPE E',\n",
       "  'subGroupCount': 0,\n",
       "  'subGroups': [],\n",
       "  'access': {'view': True,\n",
       "   'viewMembers': True,\n",
       "   'manageMembers': True,\n",
       "   'manage': True,\n",
       "   'manageMembership': True}},\n",
       " {'id': '4cbefd17-52de-48c6-8996-7b4d34761b6d',\n",
       "  'name': 'AGENT RENCENSEUR GROUPE G',\n",
       "  'path': '/AGENT RENCENSEUR GROUPE G',\n",
       "  'subGroupCount': 0,\n",
       "  'subGroups': [],\n",
       "  'access': {'view': True,\n",
       "   'viewMembers': True,\n",
       "   'manageMembers': True,\n",
       "   'manage': True,\n",
       "   'manageMembership': True}},\n",
       " {'id': '1c61bf3c-2fd0-41e0-98aa-111d666e7e90',\n",
       "  'name': 'AGENT RENCENSEUR GROUPE J',\n",
       "  'path': '/AGENT RENCENSEUR GROUPE J',\n",
       "  'subGroupCount': 0,\n",
       "  'subGroups': [],\n",
       "  'access': {'view': True,\n",
       "   'viewMembers': True,\n",
       "   'manageMembers': True,\n",
       "   'manage': True,\n",
       "   'manageMembership': True}},\n",
       " {'id': '3cc5501d-86be-4bc3-b3f9-e716a80fb370',\n",
       "  'name': 'AGENT RENCENSEUR GROUPE P',\n",
       "  'path': '/AGENT RENCENSEUR GROUPE P',\n",
       "  'subGroupCount': 0,\n",
       "  'subGroups': [],\n",
       "  'access': {'view': True,\n",
       "   'viewMembers': True,\n",
       "   'manageMembers': True,\n",
       "   'manage': True,\n",
       "   'manageMembership': True}},\n",
       " {'id': '4b5c824e-098b-4ea9-89e8-70e88080ff43',\n",
       "  'name': 'AGENT RENCENSEUR GROUPE V',\n",
       "  'path': '/AGENT RENCENSEUR GROUPE V',\n",
       "  'subGroupCount': 0,\n",
       "  'subGroups': [],\n",
       "  'access': {'view': True,\n",
       "   'viewMembers': True,\n",
       "   'manageMembers': True,\n",
       "   'manage': True,\n",
       "   'manageMembership': True}},\n",
       " {'id': '7cfb5a33-f751-43b1-a6a3-f4af45e7d2f3',\n",
       "  'name': 'AGENT RENCENSEUR GROUPE X',\n",
       "  'path': '/AGENT RENCENSEUR GROUPE X',\n",
       "  'subGroupCount': 0,\n",
       "  'subGroups': [],\n",
       "  'access': {'view': True,\n",
       "   'viewMembers': True,\n",
       "   'manageMembers': True,\n",
       "   'manage': True,\n",
       "   'manageMembership': True}}]"
      ]
     },
     "execution_count": 147,
     "metadata": {},
     "output_type": "execute_result"
    }
   ],
   "source": [
    "# GET ALL GROUPS\n",
    "\n",
    "groups = await kc_admin.a_get_groups({})\n",
    "groups"
   ]
  },
  {
   "cell_type": "code",
   "execution_count": 148,
   "id": "2e8278c1",
   "metadata": {},
   "outputs": [
    {
     "data": {
      "text/plain": [
       "{'id': '4cbefd17-52de-48c6-8996-7b4d34761b6d',\n",
       " 'name': 'AGENT RENCENSEUR GROUPE G',\n",
       " 'path': '/AGENT RENCENSEUR GROUPE G',\n",
       " 'subGroupCount': 0,\n",
       " 'subGroups': [],\n",
       " 'attributes': {'slug': ['agent-rencenseur-groupe-g']},\n",
       " 'realmRoles': [],\n",
       " 'clientRoles': {},\n",
       " 'access': {'view': True,\n",
       "  'viewMembers': True,\n",
       "  'manageMembers': True,\n",
       "  'manage': True,\n",
       "  'manageMembership': True}}"
      ]
     },
     "execution_count": 148,
     "metadata": {},
     "output_type": "execute_result"
    }
   ],
   "source": [
    "# GET GROUP\n",
    "\n",
    "sliced_groups = groups[3:]\n",
    "group_id = sliced_groups[0].get(\"id\")\n",
    "group = await kc_admin.a_get_group(group_id=group_id)\n",
    "group"
   ]
  },
  {
   "cell_type": "code",
   "execution_count": 149,
   "id": "5e6310c8",
   "metadata": {},
   "outputs": [
    {
     "data": {
      "text/plain": [
       "{}"
      ]
     },
     "execution_count": 149,
     "metadata": {},
     "output_type": "execute_result"
    }
   ],
   "source": [
    "# ASSIGN GROUP TO USER\n",
    "\n",
    "user_id = users[0].get(\"id\")\n",
    "user_groups = await kc_admin.a_get_user_groups(user_id=user_id)\n",
    "\n",
    "if user_groups:\n",
    "    await kc_admin.a_group_user_remove(\n",
    "        user_id=user_id, group_id=user_groups[0].get(\"id\")\n",
    "    )\n",
    "\n",
    "result = await kc_admin.a_group_user_add(user_id=user_id, group_id=group[\"id\"])\n",
    "result"
   ]
  },
  {
   "cell_type": "code",
   "execution_count": 150,
   "id": "7ecbf69a",
   "metadata": {},
   "outputs": [
    {
     "data": {
      "text/plain": [
       "[{'id': '4cbefd17-52de-48c6-8996-7b4d34761b6d',\n",
       "  'name': 'AGENT RENCENSEUR GROUPE G',\n",
       "  'path': '/AGENT RENCENSEUR GROUPE G',\n",
       "  'subGroups': []}]"
      ]
     },
     "execution_count": 150,
     "metadata": {},
     "output_type": "execute_result"
    }
   ],
   "source": [
    "# GET USER GROUPS\n",
    "\n",
    "groups = await kc_admin.a_get_user_groups(user_id=user_id)\n",
    "groups"
   ]
  }
 ],
 "metadata": {
  "kernelspec": {
   "display_name": "Python 3 (ipykernel)",
   "language": "python",
   "name": "python3"
  },
  "language_info": {
   "codemirror_mode": {
    "name": "ipython",
    "version": 3
   },
   "file_extension": ".py",
   "mimetype": "text/x-python",
   "name": "python",
   "nbconvert_exporter": "python",
   "pygments_lexer": "ipython3",
   "version": "3.12.4"
  }
 },
 "nbformat": 4,
 "nbformat_minor": 5
}
